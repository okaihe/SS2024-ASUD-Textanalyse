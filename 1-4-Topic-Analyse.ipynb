{
 "cells": [
  {
   "cell_type": "code",
   "execution_count": 1,
   "id": "a5917f63-e7d2-4aee-99a6-87c1ae3033f2",
   "metadata": {},
   "outputs": [],
   "source": [
    "import pandas as pd\n",
    "from openai import OpenAI"
   ]
  },
  {
   "cell_type": "markdown",
   "id": "0c6ca00e-05d3-44e9-9e53-2d38d3bcf0ed",
   "metadata": {},
   "source": [
    "# Analyse der Stichwörter"
   ]
  },
  {
   "cell_type": "markdown",
   "id": "9e843afc-ef83-437f-a5b9-24d9a63d91aa",
   "metadata": {},
   "source": [
    "Dieser Abschnitt befasst sich mit der Generierung von Stichwörtern zu den einzelnen Artikeln. Da NTV keine Stichwörter zu den Inhalten in ihren Artikeln mitliefert, müssen diese zunächst erstellt werden. Anschließend können Zusammenhänge und Themen in einem Graphen dargestellt werden. Zunächst wird der OpenAI-Client erstellt, über den anschließend die Abfragen gesendet werden und die CSV-Datei mit den Artikeln eingelesen. Ebenso wird die Spalte `keywords` hinzugefügt, die zunächst mit `None`-Werten gefüllt wird."
   ]
  },
  {
   "cell_type": "code",
   "execution_count": 2,
   "id": "08225d49-ff89-4f96-ba16-169acd283271",
   "metadata": {},
   "outputs": [],
   "source": [
    "openai_client = OpenAI()"
   ]
  },
  {
   "cell_type": "code",
   "execution_count": 3,
   "id": "ea6b0960-b81e-4055-922d-a9ff939890e7",
   "metadata": {},
   "outputs": [
    {
     "data": {
      "text/html": [
       "<div>\n",
       "<style scoped>\n",
       "    .dataframe tbody tr th:only-of-type {\n",
       "        vertical-align: middle;\n",
       "    }\n",
       "\n",
       "    .dataframe tbody tr th {\n",
       "        vertical-align: top;\n",
       "    }\n",
       "\n",
       "    .dataframe thead th {\n",
       "        text-align: right;\n",
       "    }\n",
       "</style>\n",
       "<table border=\"1\" class=\"dataframe\">\n",
       "  <thead>\n",
       "    <tr style=\"text-align: right;\">\n",
       "      <th></th>\n",
       "      <th>date</th>\n",
       "      <th>time</th>\n",
       "      <th>category</th>\n",
       "      <th>headline</th>\n",
       "      <th>text</th>\n",
       "      <th>upload</th>\n",
       "      <th>upload-hour</th>\n",
       "      <th>weekday</th>\n",
       "      <th>length</th>\n",
       "      <th>keywords</th>\n",
       "    </tr>\n",
       "  </thead>\n",
       "  <tbody>\n",
       "    <tr>\n",
       "      <th>0</th>\n",
       "      <td>2024-05-10</td>\n",
       "      <td>17:14:00</td>\n",
       "      <td>politik</td>\n",
       "      <td>Gruppen treten am Vatertag mit Nazi Symbolik auf</td>\n",
       "      <td>Am Vatertag steuern Männer ein altes Militärfa...</td>\n",
       "      <td>2024-05-10 17:14:00</td>\n",
       "      <td>17</td>\n",
       "      <td>Friday</td>\n",
       "      <td>2908</td>\n",
       "      <td>None</td>\n",
       "    </tr>\n",
       "    <tr>\n",
       "      <th>1</th>\n",
       "      <td>2024-05-10</td>\n",
       "      <td>17:16:00</td>\n",
       "      <td>politik</td>\n",
       "      <td>Peking schimpft ueber US Zerstoerer im Suedchi...</td>\n",
       "      <td>China beansprucht die Paracel-Inseln im Südchi...</td>\n",
       "      <td>2024-05-10 17:16:00</td>\n",
       "      <td>17</td>\n",
       "      <td>Friday</td>\n",
       "      <td>3504</td>\n",
       "      <td>None</td>\n",
       "    </tr>\n",
       "    <tr>\n",
       "      <th>2</th>\n",
       "      <td>2024-05-10</td>\n",
       "      <td>19:33:00</td>\n",
       "      <td>politik</td>\n",
       "      <td>SPD Politiker Ecke schildert Sekunden der Prue...</td>\n",
       "      <td>Der vor einer Woche brutal attackierte SPD-Pol...</td>\n",
       "      <td>2024-05-10 19:33:00</td>\n",
       "      <td>19</td>\n",
       "      <td>Friday</td>\n",
       "      <td>2445</td>\n",
       "      <td>None</td>\n",
       "    </tr>\n",
       "    <tr>\n",
       "      <th>3</th>\n",
       "      <td>2024-05-10</td>\n",
       "      <td>08:40:00</td>\n",
       "      <td>politik</td>\n",
       "      <td>Landkreise fordern haertere Buergergeld Sankti...</td>\n",
       "      <td>Beim Bürgergeld in seiner jetzigen Form bemäng...</td>\n",
       "      <td>2024-05-10 08:40:00</td>\n",
       "      <td>8</td>\n",
       "      <td>Friday</td>\n",
       "      <td>2984</td>\n",
       "      <td>None</td>\n",
       "    </tr>\n",
       "    <tr>\n",
       "      <th>4</th>\n",
       "      <td>2024-05-10</td>\n",
       "      <td>15:44:00</td>\n",
       "      <td>politik</td>\n",
       "      <td>Buschmanns Regierungsflieger kehrt in Parkposi...</td>\n",
       "      <td>Deutsche Regierungsflieger sind für ihre Panne...</td>\n",
       "      <td>2024-05-10 15:44:00</td>\n",
       "      <td>15</td>\n",
       "      <td>Friday</td>\n",
       "      <td>2570</td>\n",
       "      <td>None</td>\n",
       "    </tr>\n",
       "  </tbody>\n",
       "</table>\n",
       "</div>"
      ],
      "text/plain": [
       "         date      time category  \\\n",
       "0  2024-05-10  17:14:00  politik   \n",
       "1  2024-05-10  17:16:00  politik   \n",
       "2  2024-05-10  19:33:00  politik   \n",
       "3  2024-05-10  08:40:00  politik   \n",
       "4  2024-05-10  15:44:00  politik   \n",
       "\n",
       "                                            headline  \\\n",
       "0   Gruppen treten am Vatertag mit Nazi Symbolik auf   \n",
       "1  Peking schimpft ueber US Zerstoerer im Suedchi...   \n",
       "2  SPD Politiker Ecke schildert Sekunden der Prue...   \n",
       "3  Landkreise fordern haertere Buergergeld Sankti...   \n",
       "4  Buschmanns Regierungsflieger kehrt in Parkposi...   \n",
       "\n",
       "                                                text               upload  \\\n",
       "0  Am Vatertag steuern Männer ein altes Militärfa...  2024-05-10 17:14:00   \n",
       "1  China beansprucht die Paracel-Inseln im Südchi...  2024-05-10 17:16:00   \n",
       "2  Der vor einer Woche brutal attackierte SPD-Pol...  2024-05-10 19:33:00   \n",
       "3  Beim Bürgergeld in seiner jetzigen Form bemäng...  2024-05-10 08:40:00   \n",
       "4  Deutsche Regierungsflieger sind für ihre Panne...  2024-05-10 15:44:00   \n",
       "\n",
       "   upload-hour weekday  length keywords  \n",
       "0           17  Friday    2908     None  \n",
       "1           17  Friday    3504     None  \n",
       "2           19  Friday    2445     None  \n",
       "3            8  Friday    2984     None  \n",
       "4           15  Friday    2570     None  "
      ]
     },
     "execution_count": 3,
     "metadata": {},
     "output_type": "execute_result"
    }
   ],
   "source": [
    "articles_data = pd.read_csv('2-2-data-extended.csv')\n",
    "articles = pd.DataFrame(articles_data)\n",
    "articles[\"keywords\"] = None\n",
    "articles.head()"
   ]
  },
  {
   "cell_type": "markdown",
   "id": "86c3779b-9394-4595-93f4-7637876feef8",
   "metadata": {},
   "source": [
    "## Generierung der Stichwörter"
   ]
  },
  {
   "cell_type": "markdown",
   "id": "6a5e0039-e862-4ffa-a94a-0531d67a88b6",
   "metadata": {},
   "source": [
    "Die Stichwörter zu den Artikeln sollen mit Hilfe von LLMs generiert werden, in diesem Fall mit Hilfe von ChatGPT. Verwendet wird, vorrangig aus kostengründen, das Modell `gpt-4o-mini`."
   ]
  },
  {
   "cell_type": "code",
   "execution_count": 4,
   "id": "a44288c1-6b90-417d-864e-72d9462c2f8d",
   "metadata": {},
   "outputs": [],
   "source": [
    "def create_keywords_for_articles(openai_client, articles_df, start=0, end=5):\n",
    "    print()\n",
    "    for i in range(start, end):\n",
    "        results = []\n",
    "        article_text = articles_df.iloc[i][\"text\"]\n",
    "        article_headline = articles_df.iloc[i][\"headline\"]\n",
    "        completion = openai_client.chat.completions.create(\n",
    "        model=\"gpt-4o-mini\",\n",
    "        messages=[\n",
    "            {\n",
    "                \"role\": \"system\",\n",
    "                \"content\": \"Du fasst Nachrichtenartikel des Nachrichtensenders NTV anhand von Stichpunkten zusammenzufassen. Du gibst ausschließlich die Stichwörter durch Kommata getrennt zurück. Die Stichwörter sollen den Inhalt mit übergeordneten Kategorien wie Politik, Wirtschaft, Gesellschaft, Auto, Sport, Unterhaltung und dergleichen beschreiben. Es sollen exakt 10 Stichwörter generiert werden.\",\n",
    "            },\n",
    "            {\n",
    "                \"role\": \"user\",\n",
    "                \"content\": article_text,\n",
    "                },\n",
    "            ],\n",
    "        )\n",
    "        keywords = completion.choices[0].message.content\n",
    "        articles_df.at[i, \"keywords\"] = keywords\n",
    "        print('\\r', end='')\n",
    "        print(f\"Generated Keywords for {i + 1} articles\", end='')\n",
    "    return articles_df"
   ]
  },
  {
   "cell_type": "code",
   "execution_count": 27,
   "id": "b7155db2-7ebe-4f2e-9117-6d6d4b8c95fe",
   "metadata": {},
   "outputs": [
    {
     "name": "stdout",
     "output_type": "stream",
     "text": [
      "\n",
      "Generated Keywords for 10678 articles"
     ]
    }
   ],
   "source": [
    "articles = create_keywords_for_articles(openai_client, articles, 8059, 10678)\n",
    "articles.to_csv('2-3-data-extended-keywords.csv', index=False)"
   ]
  },
  {
   "cell_type": "code",
   "execution_count": 25,
   "id": "16c011d8-cf10-4ba1-9c28-8cf6a6d2e7a2",
   "metadata": {},
   "outputs": [],
   "source": [
    "articles.to_csv('2-3-data-extended-keywords.csv', index=False)"
   ]
  }
 ],
 "metadata": {
  "kernelspec": {
   "display_name": "Python 3 (ipykernel)",
   "language": "python",
   "name": "python3"
  },
  "language_info": {
   "codemirror_mode": {
    "name": "ipython",
    "version": 3
   },
   "file_extension": ".py",
   "mimetype": "text/x-python",
   "name": "python",
   "nbconvert_exporter": "python",
   "pygments_lexer": "ipython3",
   "version": "3.12.1"
  }
 },
 "nbformat": 4,
 "nbformat_minor": 5
}
