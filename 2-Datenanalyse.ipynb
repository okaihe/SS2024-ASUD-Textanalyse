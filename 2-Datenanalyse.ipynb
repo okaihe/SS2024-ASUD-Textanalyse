{
 "cells": [
  {
   "cell_type": "code",
   "execution_count": 5,
   "id": "a5ac7be9-5176-44b8-8f36-45e1cb41c7f8",
   "metadata": {},
   "outputs": [],
   "source": [
    "from bertopic import BERTopic\n",
    "from bertopic.representation import KeyBERTInspired"
   ]
  },
  {
   "cell_type": "code",
   "execution_count": 6,
   "id": "bf95af21-020b-49b3-8919-a0c4a3209e11",
   "metadata": {},
   "outputs": [],
   "source": [
    "representation_model = KeyBERTInspired()"
   ]
  },
  {
   "cell_type": "markdown",
   "id": "a57f6348-fd57-45c7-923c-2e5553decb8b",
   "metadata": {},
   "source": [
    "## Hilfsfunktionen"
   ]
  },
  {
   "cell_type": "code",
   "execution_count": 1,
   "id": "8f8b1150-0208-413d-ab5f-0ba2101d18c5",
   "metadata": {},
   "outputs": [],
   "source": [
    "import os\n",
    "from bs4 import BeautifulSoup\n",
    "from typing import Dict, List"
   ]
  },
  {
   "cell_type": "code",
   "execution_count": 2,
   "id": "909b72cc-f8ce-4900-97b1-3c17a8c7c3f7",
   "metadata": {},
   "outputs": [],
   "source": [
    "def collect_article_files_from(path: str) -> List[Dict[str, str]]:\n",
    "    collection = []\n",
    "    dates = os.listdir(path)\n",
    "    for date in dates:\n",
    "        categories = os.listdir(f\"{path}/{date}\")\n",
    "        for category in categories:\n",
    "            article_list = os.listdir(f\"{path}/{date}/{category}\")\n",
    "            for article in article_list:\n",
    "                if article != \"rss.json\":\n",
    "                    collection.append(\n",
    "                        {\n",
    "                            \"date\": date,\n",
    "                            \"category\": category,\n",
    "                            \"headline\": convert_filename_to_article_headline(article),\n",
    "                            \"filename\": article,\n",
    "                        }\n",
    "                    )\n",
    "    return collection"
   ]
  },
  {
   "cell_type": "code",
   "execution_count": 4,
   "id": "554edf04-040a-4501-9ea8-4a4e45d04323",
   "metadata": {},
   "outputs": [],
   "source": [
    "def extract_text_from_html_article(path: str) -> str:\n",
    "    pass"
   ]
  },
  {
   "cell_type": "code",
   "execution_count": 3,
   "id": "1195c051-d4d7-4bca-af7f-7e3c042ca69e",
   "metadata": {},
   "outputs": [],
   "source": [
    "def convert_filename_to_article_headline(article_filename: str) -> str:\n",
    "    parts = (\" \").join(article_filename.split(\"-\")[:-1])\n",
    "    return parts"
   ]
  },
  {
   "cell_type": "code",
   "execution_count": null,
   "id": "d505cd40-8e00-4207-8308-23496105e153",
   "metadata": {},
   "outputs": [],
   "source": [
    "with open(j"
   ]
  }
 ],
 "metadata": {
  "kernelspec": {
   "display_name": "Python 3 (ipykernel)",
   "language": "python",
   "name": "python3"
  },
  "language_info": {
   "codemirror_mode": {
    "name": "ipython",
    "version": 3
   },
   "file_extension": ".py",
   "mimetype": "text/x-python",
   "name": "python",
   "nbconvert_exporter": "python",
   "pygments_lexer": "ipython3",
   "version": "3.12.1"
  }
 },
 "nbformat": 4,
 "nbformat_minor": 5
}
