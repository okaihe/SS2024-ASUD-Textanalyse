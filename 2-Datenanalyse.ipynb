{
 "cells": [
  {
   "cell_type": "markdown",
   "id": "34f4897e-f799-4d6f-b784-641c9238dce2",
   "metadata": {},
   "source": [
    "# Datenanalyse"
   ]
  },
  {
   "cell_type": "markdown",
   "id": "b0a354ac-ef2e-4a7d-93f8-49e814de209f",
   "metadata": {},
   "source": [
    "In diesem Notebook werden die Nachrichtenartikel des Nachrichtensenders `NTV` mit Hilfe einer Sentiment-Analyse und Topic-Modeling untersucht. Als Datengrundlage wird dazu die im Notebook `1-Datengenerierung.ipynb` generierte Datei `data.csv` verwendet."
   ]
  },
  {
   "cell_type": "markdown",
   "id": "88adac1b-cbaf-47c2-8077-54e7740ad3ab",
   "metadata": {},
   "source": [
    "## Einlesen der Daten"
   ]
  },
  {
   "cell_type": "markdown",
   "id": "3b084bec-8e45-49b3-b64e-ace96b4c2ff2",
   "metadata": {},
   "source": [
    "Zum Einlesen der `csv`-Datei wird die Python-Bibliothek `Pandas` verwendet. Wir speichern die Informationen zu den Artikeln und deren Inhalte in der Variable `articles`. Da wir nicht weiter an dem Dateiname interessiert sind, wird dieser anschließend gelöscht."
   ]
  },
  {
   "cell_type": "code",
   "execution_count": null,
   "id": "fb85ddb8-20dd-4dca-8232-3fb38cb6e984",
   "metadata": {},
   "outputs": [],
   "source": [
    "import pandas as pd"
   ]
  },
  {
   "cell_type": "code",
   "execution_count": null,
   "id": "d80eeb5b-7254-4dbd-8917-b8a3ab7c35b5",
   "metadata": {},
   "outputs": [],
   "source": [
    "articles_data = pd.read_csv('data.csv')\n",
    "articles = pd.DataFrame(articles_data)\n",
    "articles = articles.drop('filename', axis=1)\n",
    "articles"
   ]
  },
  {
   "cell_type": "markdown",
   "id": "d6481960-613b-4057-9ce6-1783f767b0fc",
   "metadata": {},
   "source": [
    "## Sentiment Analyse"
   ]
  },
  {
   "cell_type": "markdown",
   "id": "10803778-c856-4253-8767-c46fffa75cec",
   "metadata": {},
   "source": [
    "Für die Sentiment-Analyse wird das Python-Package `germansentiment` verwendet. Die Textanalyse für englisch-sprachige Texte ist deutlich ausgereifter als die für deutsche Texte. Das führt insbesondere bei der Sentiment-Analyse zu problemen, da hier die Bedeutung der Worte zur Verfügung stehen muss. Das zuvor genannte Package macht es jedoch auch möglich deutsche Texte zu analysieren."
   ]
  },
  {
   "cell_type": "code",
   "execution_count": null,
   "id": "30113276-c813-455d-8386-7d0703e75ceb",
   "metadata": {},
   "outputs": [],
   "source": [
    "from germansentiment import SentimentModel"
   ]
  },
  {
   "cell_type": "code",
   "execution_count": null,
   "id": "ec83c1bf-0b02-4657-b4e0-b810c0da302a",
   "metadata": {},
   "outputs": [],
   "source": [
    "model = SentimentModel()"
   ]
  },
  {
   "cell_type": "markdown",
   "id": "3d3ecedf-ff0b-4a99-8314-f94a44310a98",
   "metadata": {},
   "source": [
    "### Überschriften"
   ]
  },
  {
   "cell_type": "markdown",
   "id": "3d1c1fc2-ae90-497e-86a0-33f7e31d9f2d",
   "metadata": {},
   "source": [
    "Zunächst sollen allein die Überschriften betrachten werden. Dazu wird die entsprechende Spalte des Dataframes extrahiert und anschließend dem `SentimentModel` übergeben. Zurückgegeben wird sowohl die entsprechende Bewertung als auch die einzelnen Wahrscheinlichkeiten für die jeweilige Klassifizierung."
   ]
  },
  {
   "cell_type": "code",
   "execution_count": null,
   "id": "6ba35c84-7a3f-41ab-9fbd-5ed23d019a29",
   "metadata": {},
   "outputs": [],
   "source": [
    "headlines = articles['headline']"
   ]
  },
  {
   "cell_type": "code",
   "execution_count": null,
   "id": "d7935477-8abe-4b4e-95ee-b5fe44b0db12",
   "metadata": {},
   "outputs": [],
   "source": [
    "headlines_classes, headlines_probabilities = model.predict_sentiment(headlines, output_probabilities = True)"
   ]
  },
  {
   "cell_type": "code",
   "execution_count": null,
   "id": "86b6d642-d86a-4211-9ac5-37f44f8917b4",
   "metadata": {},
   "outputs": [],
   "source": [
    "articles = articles.assign(sentiment_headline=headlines_classes)\n",
    "articles = articles.assign(sentiment_prob_headline=headlines_probabilities)\n",
    "articles"
   ]
  },
  {
   "cell_type": "markdown",
   "id": "01dc8b69-bd1d-4485-bc1b-7f41fd14adfa",
   "metadata": {},
   "source": [
    "In Bezug auf die Überschriften wird nun untersucht, welche Emotionen der Nachrichtensender vermittelt. Dazu werden zunächst die jeweiligen Sentiments gezählt."
   ]
  },
  {
   "cell_type": "code",
   "execution_count": null,
   "id": "dcc4458a-eb08-486a-8ce0-41fea935785b",
   "metadata": {},
   "outputs": [],
   "source": [
    "headline_sentiments_count = articles[\"sentiment_headline\"].value_counts()\n",
    "headline_sentiments = [headline_sentiments_count[\"negative\"], headline_sentiments_count[\"neutral\"], headline_sentiments_count[\"positive]\n",
    "headline_sentiments"
   ]
  },
  {
   "cell_type": "code",
   "execution_count": null,
   "id": "cfc6a0d3-2888-48ea-bf42-2cf479ab5516",
   "metadata": {},
   "outputs": [],
   "source": [
    "headline_sentiments_relative = [ round(count / len(articles) * 100, 1) for count in headline_sentiments ]\n",
    "headline_sentiments_relative"
   ]
  }
 ],
 "metadata": {
  "kernelspec": {
   "display_name": "Python 3 (ipykernel)",
   "language": "python",
   "name": "python3"
  },
  "language_info": {
   "codemirror_mode": {
    "name": "ipython",
    "version": 3
   },
   "file_extension": ".py",
   "mimetype": "text/x-python",
   "name": "python",
   "nbconvert_exporter": "python",
   "pygments_lexer": "ipython3",
   "version": "3.12.1"
  }
 },
 "nbformat": 4,
 "nbformat_minor": 5
}
